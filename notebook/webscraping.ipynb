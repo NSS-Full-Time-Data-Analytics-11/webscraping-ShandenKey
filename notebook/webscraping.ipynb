{
 "cells": [
  {
   "cell_type": "code",
   "execution_count": null,
   "id": "de78b178",
   "metadata": {},
   "outputs": [],
   "source": [
    "import requests"
   ]
  },
  {
   "cell_type": "code",
   "execution_count": null,
   "id": "366c858a",
   "metadata": {},
   "outputs": [],
   "source": [
    "URL = 'https://realpython.github.io/fake-jobs/'\n",
    "\n",
    "response = requests.get(URL)"
   ]
  },
  {
   "cell_type": "code",
   "execution_count": null,
   "id": "52f2eae7",
   "metadata": {},
   "outputs": [],
   "source": [
    "from bs4 import BeautifulSoup as BS"
   ]
  },
  {
   "cell_type": "code",
   "execution_count": null,
   "id": "07c3e201",
   "metadata": {},
   "outputs": [],
   "source": [
    "soup = BS(response.text)"
   ]
  },
  {
   "cell_type": "code",
   "execution_count": null,
   "id": "2d755ad0",
   "metadata": {
    "scrolled": true
   },
   "outputs": [],
   "source": [
    "print(soup.prettify())"
   ]
  },
  {
   "cell_type": "markdown",
   "id": "421eb318",
   "metadata": {},
   "source": [
    "a. Use the .find method to find the tag containing the first job title (\"Senior Python Developer\"). Hint: can you find a tag type and/or a class that could be helpful for extracting this information? Extract the text from this title.  "
   ]
  },
  {
   "cell_type": "code",
   "execution_count": null,
   "id": "3a38b75e",
   "metadata": {},
   "outputs": [],
   "source": [
    "soup.find('h2').text"
   ]
  },
  {
   "cell_type": "markdown",
   "id": "5d9c5df8",
   "metadata": {},
   "source": [
    "b. Now, use what you did for the first title, but extract the job title for all jobs on this page. Store the results in a list.  "
   ]
  },
  {
   "cell_type": "code",
   "execution_count": null,
   "id": "96c2a394",
   "metadata": {
    "scrolled": false
   },
   "outputs": [],
   "source": [
    "job_titles = soup.findAll('h2')"
   ]
  },
  {
   "cell_type": "code",
   "execution_count": null,
   "id": "900bc246",
   "metadata": {
    "scrolled": true
   },
   "outputs": [],
   "source": [
    "job_titles"
   ]
  },
  {
   "cell_type": "markdown",
   "id": "454988d4",
   "metadata": {},
   "source": [
    "image_srcs = [x.get('src') for x in images]"
   ]
  },
  {
   "cell_type": "code",
   "execution_count": null,
   "id": "d19299e6",
   "metadata": {},
   "outputs": [],
   "source": [
    "job_titles = [x.text for x in job_titles]"
   ]
  },
  {
   "cell_type": "code",
   "execution_count": null,
   "id": "cc20aa8d",
   "metadata": {
    "scrolled": true
   },
   "outputs": [],
   "source": [
    "job_titles"
   ]
  },
  {
   "cell_type": "markdown",
   "id": "372d983d",
   "metadata": {},
   "source": [
    "c. Finally, extract the companies, locations, and posting dates for each job. For example, the first job has a company of \"Payne, Roberts and Davis\", a location of \"Stewartbury, AA\", and a posting date of \"2021-04-08\". Ensure that the text that you extract is clean, meaning no extra spaces or other characters at the beginning or end.  "
   ]
  },
  {
   "cell_type": "code",
   "execution_count": null,
   "id": "90dd49c2",
   "metadata": {},
   "outputs": [],
   "source": [
    "companies = soup.findAll('h3')"
   ]
  },
  {
   "cell_type": "code",
   "execution_count": null,
   "id": "30615c35",
   "metadata": {},
   "outputs": [],
   "source": [
    "companies = [x.text for x in companies]"
   ]
  },
  {
   "cell_type": "code",
   "execution_count": null,
   "id": "c59c8b24",
   "metadata": {},
   "outputs": [],
   "source": [
    "locations = soup.findAll('p', attrs={'class':'location'})"
   ]
  },
  {
   "cell_type": "code",
   "execution_count": null,
   "id": "0f0c0892",
   "metadata": {
    "scrolled": true
   },
   "outputs": [],
   "source": [
    "locations"
   ]
  },
  {
   "cell_type": "code",
   "execution_count": null,
   "id": "8a521c57",
   "metadata": {},
   "outputs": [],
   "source": [
    "locations = [x.text for x in locations]"
   ]
  },
  {
   "cell_type": "code",
   "execution_count": null,
   "id": "ada2b309",
   "metadata": {
    "scrolled": true
   },
   "outputs": [],
   "source": [
    "locations"
   ]
  },
  {
   "cell_type": "code",
   "execution_count": null,
   "id": "d5a118a2",
   "metadata": {
    "scrolled": true
   },
   "outputs": [],
   "source": [
    "locations = [x.strip() for x in locations]\n",
    "locations"
   ]
  },
  {
   "cell_type": "code",
   "execution_count": null,
   "id": "b8f34d26",
   "metadata": {},
   "outputs": [],
   "source": [
    "postingdates = soup.findAll('time')"
   ]
  },
  {
   "cell_type": "code",
   "execution_count": null,
   "id": "8f7f85be",
   "metadata": {
    "scrolled": true
   },
   "outputs": [],
   "source": [
    "postingdates = [x.text for x in postingdates]\n",
    "postingdates"
   ]
  },
  {
   "cell_type": "code",
   "execution_count": null,
   "id": "2a7071e7",
   "metadata": {},
   "outputs": [],
   "source": [
    "import pandas as pd"
   ]
  },
  {
   "cell_type": "markdown",
   "id": "4e4a92dd",
   "metadata": {},
   "source": [
    "d. Take the lists that you have created and combine them into a pandas DataFrame. "
   ]
  },
  {
   "cell_type": "code",
   "execution_count": null,
   "id": "a4029ebb",
   "metadata": {},
   "outputs": [],
   "source": [
    "jobs_info = pd.DataFrame(list(zip(companies, job_titles, locations, postingdates)),\n",
    "                         columns=['company','job_title', 'location', 'posting_date'])"
   ]
  },
  {
   "cell_type": "code",
   "execution_count": null,
   "id": "84ba9135",
   "metadata": {},
   "outputs": [],
   "source": [
    "jobs_info"
   ]
  },
  {
   "cell_type": "markdown",
   "id": "ee8f1e4f",
   "metadata": {},
   "source": [
    "2. Next, add a column that contains the url for the \"Apply\" button. Try this in two ways.   \n",
    "    a. First, use the BeautifulSoup find_all method to extract the urls.  "
   ]
  },
  {
   "cell_type": "code",
   "execution_count": null,
   "id": "33bb8819",
   "metadata": {},
   "outputs": [],
   "source": [
    "apply_link = soup.findAll('a', string=\"Apply\")\n",
    "apply_link"
   ]
  },
  {
   "cell_type": "code",
   "execution_count": null,
   "id": "578b017a",
   "metadata": {
    "scrolled": true
   },
   "outputs": [],
   "source": [
    "apply_link = [x.get('href') for x in apply_link]\n",
    "apply_link"
   ]
  },
  {
   "cell_type": "markdown",
   "id": "a6d46cc8",
   "metadata": {},
   "source": [
    "b. Next, get those same urls in a different way. Examine the urls and see if you can spot the pattern of how they are constructed. Then, build the url using the elements you have already extracted. Ensure that the urls that you created match those that you extracted using BeautifulSoup. Warning: You will need to do some string cleaning and prep in constructing the urls this way. For example, look carefully at the urls for the \"Software Engineer (Python)\" job and the \"Scientist, research (maths)\" job"
   ]
  },
  {
   "cell_type": "code",
   "execution_count": null,
   "id": "11bed696",
   "metadata": {},
   "outputs": [],
   "source": []
  },
  {
   "cell_type": "code",
   "execution_count": null,
   "id": "9b258487",
   "metadata": {
    "scrolled": true
   },
   "outputs": [],
   "source": [
    "%who"
   ]
  },
  {
   "cell_type": "markdown",
   "id": "a50ea709",
   "metadata": {},
   "source": [
    "3. Finally, we want to get the job description text for each job.  \n",
    "    a. Start by looking at the page for the first job, https://realpython.github.io/fake-jobs/jobs/senior-python-developer-0.html. Using BeautifulSoup, extract the job description paragraph. "
   ]
  },
  {
   "cell_type": "code",
   "execution_count": null,
   "id": "bd47903e",
   "metadata": {},
   "outputs": [],
   "source": [
    "URL = 'https://realpython.github.io/fake-jobs/jobs/senior-python-developer-0.html'\n",
    "\n",
    "description = requests.get(URL)"
   ]
  },
  {
   "cell_type": "code",
   "execution_count": null,
   "id": "faa7187f",
   "metadata": {
    "scrolled": true
   },
   "outputs": [],
   "source": [
    "soup = BS(description.text)\n",
    "print(soup.prettify())"
   ]
  },
  {
   "cell_type": "code",
   "execution_count": null,
   "id": "babd341f",
   "metadata": {},
   "outputs": [],
   "source": [
    "jobdesc = soup.findAll('p')[1]\n",
    "jobdesc"
   ]
  },
  {
   "cell_type": "code",
   "execution_count": null,
   "id": "1f5d10d3",
   "metadata": {
    "scrolled": true
   },
   "outputs": [],
   "source": [
    "jobdesc = [x.text for x in jobdesc]\n",
    "jobdesc"
   ]
  },
  {
   "cell_type": "code",
   "execution_count": null,
   "id": "581a3d28",
   "metadata": {},
   "outputs": [],
   "source": [
    "type(jobdesc)"
   ]
  },
  {
   "cell_type": "markdown",
   "id": "527a8921",
   "metadata": {},
   "source": [
    "b. We want to be able to do this for all pages. Write a function which takes as input a url and returns the description text on that page. For example, if you input \"https://realpython.github.io/fake-jobs/jobs/television-floor-manager-8.html\" into your function, it should return the string \"At be than always different American address. Former claim chance prevent why measure too. Almost before some military outside baby interview. Face top individual win suddenly. Parent do ten after those scientist. Medical effort assume teacher wall. Significant his himself clearly very. Expert stop area along individual. Three own bank recognize special good along.\".  "
   ]
  },
  {
   "cell_type": "code",
   "execution_count": null,
   "id": "b6ca546a",
   "metadata": {},
   "outputs": [],
   "source": []
  },
  {
   "cell_type": "code",
   "execution_count": null,
   "id": "49b6aca9",
   "metadata": {},
   "outputs": [],
   "source": []
  },
  {
   "cell_type": "code",
   "execution_count": null,
   "id": "a173d5ef",
   "metadata": {},
   "outputs": [],
   "source": []
  },
  {
   "cell_type": "code",
   "execution_count": null,
   "id": "988a830f",
   "metadata": {},
   "outputs": [],
   "source": []
  },
  {
   "cell_type": "markdown",
   "id": "3b3092c2",
   "metadata": {},
   "source": [
    "c. Use the [.apply method](https://pandas.pydata.org/docs/reference/api/pandas.Series.apply.html) on the url column you created above to retrieve the description text for all of the jobs."
   ]
  },
  {
   "cell_type": "code",
   "execution_count": null,
   "id": "1cb4a4a1",
   "metadata": {},
   "outputs": [],
   "source": []
  }
 ],
 "metadata": {
  "kernelspec": {
   "display_name": "Python 3 (ipykernel)",
   "language": "python",
   "name": "python3"
  },
  "language_info": {
   "codemirror_mode": {
    "name": "ipython",
    "version": 3
   },
   "file_extension": ".py",
   "mimetype": "text/x-python",
   "name": "python",
   "nbconvert_exporter": "python",
   "pygments_lexer": "ipython3",
   "version": "3.11.5"
  }
 },
 "nbformat": 4,
 "nbformat_minor": 5
}
